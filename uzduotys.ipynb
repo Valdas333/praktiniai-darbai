{
 "cells": [
  {
   "cell_type": "code",
   "execution_count": 24,
   "metadata": {},
   "outputs": [
    {
     "name": "stdout",
     "output_type": "stream",
     "text": [
      "\n",
      "dsfsdfasfdsdfsdfsfsadf\n"
     ]
    }
   ],
   "source": [
    "tekstas = \"\"\"\n",
    "dsfsdfasfdsdfs\n",
    "dfsfsadf\"\"\"\n",
    "print(tekstas)"
   ]
  }
 ],
 "metadata": {
  "interpreter": {
   "hash": "ae29b79d45af887f3096200608e01aec8efd9c01c5d68414792ed256444bbb91"
  },
  "kernelspec": {
   "display_name": "Python 3.10.0 ('venv': venv)",
   "language": "python",
   "name": "python3"
  },
  "language_info": {
   "codemirror_mode": {
    "name": "ipython",
    "version": 3
   },
   "file_extension": ".py",
   "mimetype": "text/x-python",
   "name": "python",
   "nbconvert_exporter": "python",
   "pygments_lexer": "ipython3",
   "version": "3.10.0"
  },
  "orig_nbformat": 4
 },
 "nbformat": 4,
 "nbformat_minor": 2
}
